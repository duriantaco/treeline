{
 "cells": [
  {
   "cell_type": "code",
   "execution_count": null,
   "metadata": {},
   "outputs": [
    {
     "name": "stdout",
     "output_type": "stream",
     "text": [
      "example\n",
      "└── tut1.ipynb\n"
     ]
    }
   ],
   "source": [
    "from treeline.core import generate_tree\n",
    "import os\n",
    "\n",
    "# eg. current working dir\n",
    "\n",
    "current_dir = os.getcwd()\n",
    "result = generate_tree(current_dir)\n",
    "print(result)\n",
    "\n",
    "## or\n",
    "\n",
    "print(generate_tree(\".\"))  # same as above"
   ]
  },
  {
   "cell_type": "code",
   "execution_count": null,
   "metadata": {},
   "outputs": [
    {
     "name": "stdout",
     "output_type": "stream",
     "text": [
      "example\n",
      "└── tut1.ipynb\n",
      "example\n",
      "└── tut1.ipynb\n"
     ]
    }
   ],
   "source": [
    "# project_root = os.path.dirname(os.path.abspath(__file__))  # If running from a .py file\n",
    "# OR\n",
    "project_root = os.getcwd()  # If running from a notebook or interactive shell"
   ]
  },
  {
   "cell_type": "code",
   "execution_count": null,
   "metadata": {},
   "outputs": [
    {
     "name": "stdout",
     "output_type": "stream",
     "text": [
      "treeline\n",
      "├── .git\n",
      "│   ├── hooks\n",
      "│   │   ├── applypatch-msg.sample\n",
      "│   │   ├── commit-msg.sample\n",
      "│   │   ├── fsmonitor-watchman.sample\n",
      "│   │   ├── post-update.sample\n",
      "│   │   ├── pre-applypatch.sample\n",
      "│   │   ├── pre-commit.sample\n",
      "│   │   ├── pre-merge-commit.sample\n",
      "│   │   ├── pre-push.sample\n",
      "│   │   ├── pre-rebase.sample\n",
      "│   │   ├── pre-receive.sample\n",
      "│   │   ├── prepare-commit-msg.sample\n",
      "│   │   ├── push-to-checkout.sample\n",
      "│   │   └── update.sample\n",
      "│   ├── info\n",
      "│   │   └── exclude\n",
      "│   ├── logs\n",
      "│   │   ├── refs\n",
      "│   │   │   ├── heads\n",
      "│   │   │   │   └── main\n",
      "│   │   │   └── remotes\n",
      "│   │   │       └── origin\n",
      "│   │   │           └── main\n",
      "│   │   └── HEAD\n",
      "│   ├── objects\n",
      "│   │   ├── 03\n",
      "│   │   │   └── 8109e7996113202fee50188a072f4cdb1b739a\n",
      "│   │   ├── 04\n",
      "│   │   │   └── a92046d067c3845e08bfb8a046545a092534f0\n",
      "│   │   ├── 06\n",
      "│   │   │   └── 0d32cadf612ef32c64854e066ca0b086c3f563\n",
      "│   │   ├── 09\n",
      "│   │   │   └── 70fabb0959645c4cd0d6b11a8fec15d6c03e06\n",
      "│   │   ├── 0b\n",
      "│   │   │   └── c64183c0554da44f79484aeb8674ea1abd7e67\n",
      "│   │   ├── 11\n",
      "│   │   │   ├── b0d3562d9c285aa7fc5e61919d6de4c6a19736\n",
      "│   │   │   └── eeb1dea9f7da8a701c1d01c3ee973079212880\n",
      "│   │   ├── 18\n",
      "│   │   │   └── 20d06be7daffb6b8168a521dfe41f62d253ee5\n",
      "│   │   ├── 24\n",
      "│   │   │   └── 6a2ca25fa9ac0dfbcf96c88c652e636125e60f\n",
      "│   │   ├── 26\n",
      "│   │   │   └── 1eeb9e9f8b2b4b0d119366dda99c6fd7d35c64\n",
      "│   │   ├── 27\n",
      "│   │   │   └── f9a6add80ff89c971ab7baf5c090ae121397b9\n",
      "│   │   ├── 41\n",
      "│   │   │   ├── 197a7a12f2a66aaf9ecfc3cb07596c7f2fa13a\n",
      "│   │   │   └── a3c9c151d354cf5380f0ab322af0d31f58bd4b\n",
      "│   │   ├── 51\n",
      "│   │   │   └── 44dba50c9529bae2334d98a7a35d7503db77e1\n",
      "│   │   ├── 52\n",
      "│   │   │   └── dd4806b122a78015d7ff664cd72c8e69572385\n",
      "│   │   ├── 56\n",
      "│   │   │   └── 37cbdfa05f48d07b7fc95e1f09ceb71e135730\n",
      "│   │   ├── 62\n",
      "│   │   │   └── b193a1e965ed913d8ed68a582c5ff7b2b24ee5\n",
      "│   │   ├── 79\n",
      "│   │   │   └── ceb4b3d90d2987933096d87d0c6cc208383139\n",
      "│   │   ├── 8b\n",
      "│   │   │   └── 137891791fe96927ad78e64b0aad7bded08bdc\n",
      "│   │   ├── 8f\n",
      "│   │   │   └── 57a99980891ccc68701b94b94342f7ae0e02d6\n",
      "│   │   ├── a0\n",
      "│   │   │   └── 8cf5c9101b82432dd1cce6a1811b1408bd7a2c\n",
      "│   │   ├── c6\n",
      "│   │   │   └── 5d57c970a21adcb8ad25bbcc43d91210f0f9f8\n",
      "│   │   ├── cf\n",
      "│   │   │   └── 9113c3d433c997ea62894cf0971ae5d99c1212\n",
      "│   │   ├── d8\n",
      "│   │   │   └── 25f678130dfe802426f837a1499a0707659019\n",
      "│   │   ├── e2\n",
      "│   │   │   └── 68e0e06d1cbf3cba2f4e09e0c59107d6b1f996\n",
      "│   │   ├── f0\n",
      "│   │   │   └── ee5263dfeda9fe107b653b45be2b423cff948f\n",
      "│   │   ├── fb\n",
      "│   │   │   └── f6e84aee6a7a946e98f68e2b89ca004e54999f\n",
      "│   │   ├── info\n",
      "│   │   └── pack\n",
      "│   ├── refs\n",
      "│   │   ├── heads\n",
      "│   │   │   └── main\n",
      "│   │   ├── remotes\n",
      "│   │   │   └── origin\n",
      "│   │   │       └── main\n",
      "│   │   └── tags\n",
      "│   ├── COMMIT_EDITMSG\n",
      "│   ├── config\n",
      "│   ├── description\n",
      "│   ├── HEAD\n",
      "│   └── index\n",
      "├── example\n",
      "│   ├── tree.md\n",
      "│   └── tut1.ipynb\n",
      "├── tests\n",
      "│   ├── test_core.py\n",
      "│   ├── test_empty_dir.py\n",
      "│   ├── test_missing_dir.py\n",
      "│   ├── test_nested_dir.py\n",
      "│   ├── test_special_char.py\n",
      "│   └── test_treeline.py\n",
      "├── treeline\n",
      "│   ├── __pycache__\n",
      "│   │   ├── __init__.cpython-311.pyc\n",
      "│   │   └── core.cpython-311.pyc\n",
      "│   ├── __init__.py\n",
      "│   ├── __main__.py\n",
      "│   ├── core.py\n",
      "│   └── default_ignore\n",
      "├── treeline.egg-info\n",
      "│   ├── dependency_links.txt\n",
      "│   ├── entry_points.txt\n",
      "│   ├── PKG-INFO\n",
      "│   ├── SOURCES.txt\n",
      "│   └── top_level.txt\n",
      "├── .gitignore\n",
      "├── .treeline-ignore\n",
      "├── License\n",
      "├── README.md\n",
      "├── setup.py\n",
      "└── tree.md\n"
     ]
    }
   ],
   "source": [
    "## the .treeline-ignore will ignore whatever is in the folder\n",
    "project_root = \"your path\"\n",
    "tree = generate_tree(project_root)\n",
    "print(tree)"
   ]
  },
  {
   "cell_type": "code",
   "execution_count": 1,
   "metadata": {},
   "outputs": [
    {
     "name": "stdout",
     "output_type": "stream",
     "text": [
      "Basic Tree Structure:\n",
      "\n",
      "├── sample.py\n",
      "│     [CLASS] 🏛️ Calculator\n",
      "│       └─ # A simple calculator class.\n",
      "│     [FUNC] ⚡ main\n",
      "│     [FUNC] ⚡ __init__\n",
      "│     [FUNC] ⚡ add\n",
      "│       └─ # Add two numbers.\n",
      "│     [FUNC] ⚡ multiply\n",
      "│       └─ # Multiply two numbers.\n",
      "├── tree.md\n",
      "└── tut1.ipynb\n"
     ]
    }
   ],
   "source": [
    "from treeline.core import generate_tree\n",
    "\n",
    "# Create a sample Python file to analyze\n",
    "sample_code = '''\n",
    "class Calculator:\n",
    "    \"\"\"A simple calculator class.\"\"\"\n",
    "    \n",
    "    def __init__(self):\n",
    "        self.value = 0\n",
    "        \n",
    "    def add(self, x: int, y: int) -> int:\n",
    "        \"\"\"Add two numbers.\"\"\"\n",
    "        return x + y\n",
    "        \n",
    "    def multiply(self, x: int, y: int) -> int:\n",
    "        \"\"\"Multiply two numbers.\"\"\"\n",
    "        return x * y\n",
    "\n",
    "def main():\n",
    "    calc = Calculator()\n",
    "    result = calc.add(5, 3)\n",
    "    print(f\"5 + 3 = {result}\")\n",
    "\n",
    "if __name__ == \"__main__\":\n",
    "    main()\n",
    "'''\n",
    "\n",
    "with open(\"sample.py\", \"w\") as f:\n",
    "    f.write(sample_code)\n",
    "\n",
    "# Generate basic tree structure\n",
    "tree = generate_tree(\n",
    "    directory=\".\",\n",
    "    show_params=True,\n",
    "    show_relationships=True\n",
    ")\n",
    "print(\"Basic Tree Structure:\")\n",
    "print(tree)"
   ]
  },
  {
   "cell_type": "code",
   "execution_count": 2,
   "metadata": {},
   "outputs": [
    {
     "name": "stdout",
     "output_type": "stream",
     "text": [
      "\n",
      "Detailed Analysis Results:\n",
      "\n",
      "Analyzing Calculator:\n",
      "Type: class\n",
      "Metrics: {'lines': 13, 'method_count': 3, 'complexity': 3, 'has_docstring': True, 'public_methods': 2, 'private_methods': 1, 'inheritance_depth': 1, 'imports': {'import_count': 0, 'dependencies': 0}, 'docstring_length': 26}\n",
      "\n",
      "Analyzing main:\n",
      "Type: function\n",
      "Metrics: {'lines': 4, 'params': 0, 'returns': 0, 'complexity': 1, 'cognitive_complexity': 0, 'nested_depth': 0, 'has_docstring': False, 'maintainability_index': 80.05056347819266, 'cognitive_load': 0, 'docstring_length': 0}\n",
      "\n",
      "Analyzing __init__:\n",
      "Type: function\n",
      "Metrics: {'lines': 2, 'params': 1, 'returns': 0, 'complexity': 1, 'cognitive_complexity': 0, 'nested_depth': 0, 'has_docstring': False, 'maintainability_index': 91.19102358831414, 'cognitive_load': 1, 'docstring_length': 0}\n",
      "\n",
      "Analyzing add:\n",
      "Type: function\n",
      "Metrics: {'lines': 3, 'params': 3, 'returns': 1, 'complexity': 1, 'cognitive_complexity': 0, 'nested_depth': 0, 'has_docstring': True, 'maintainability_index': 83.5402035956076, 'cognitive_load': 3, 'docstring_length': 16}\n",
      "\n",
      "Analyzing multiply:\n",
      "Type: function\n",
      "Metrics: {'lines': 3, 'params': 3, 'returns': 1, 'complexity': 1, 'cognitive_complexity': 0, 'nested_depth': 0, 'has_docstring': True, 'maintainability_index': 83.5402035956076, 'cognitive_load': 3, 'docstring_length': 21}\n"
     ]
    }
   ],
   "source": [
    "from treeline.enhanced_analyzer import EnhancedCodeAnalyzer\n",
    "from pathlib import Path\n",
    "\n",
    "analyzer = EnhancedCodeAnalyzer()\n",
    "results = analyzer.analyze_file(Path(\"sample.py\"))\n",
    "\n",
    "print(\"\\nDetailed Analysis Results:\")\n",
    "for item in results:\n",
    "    print(f\"\\nAnalyzing {item['name']}:\")\n",
    "    print(f\"Type: {item['type']}\")\n",
    "    print(f\"Metrics: {item['metrics']}\")\n",
    "    if item['code_smells']:\n",
    "        print(f\"Code Smells: {item['code_smells']}\")\n"
   ]
  },
  {
   "cell_type": "code",
   "execution_count": 3,
   "metadata": {},
   "outputs": [
    {
     "name": "stdout",
     "output_type": "stream",
     "text": [
      "\n",
      "Quality Report:\n",
      "# Code Quality Analysis Report\n",
      "\n",
      "Analysis completed with the following results:\n",
      "\n",
      "No quality issues found.\n",
      "\n",
      "No metrics collected.\n"
     ]
    }
   ],
   "source": [
    "report = analyzer.generate_report()\n",
    "print(\"\\nQuality Report:\")\n",
    "print(report)"
   ]
  },
  {
   "cell_type": "code",
   "execution_count": null,
   "metadata": {},
   "outputs": [
    {
     "ename": "AttributeError",
     "evalue": "'str' object has no attribute 'rglob'",
     "output_type": "error",
     "traceback": [
      "\u001b[0;31m---------------------------------------------------------------------------\u001b[0m",
      "\u001b[0;31mAttributeError\u001b[0m                            Traceback (most recent call last)",
      "Cell \u001b[0;32mIn[4], line 5\u001b[0m\n\u001b[1;32m      2\u001b[0m \u001b[38;5;28;01mfrom\u001b[39;00m \u001b[38;5;21;01mtreeline\u001b[39;00m\u001b[38;5;21;01m.\u001b[39;00m\u001b[38;5;21;01mdiff_visualizer\u001b[39;00m \u001b[38;5;28;01mimport\u001b[39;00m DiffVisualizer\n\u001b[1;32m      4\u001b[0m dep_analyzer \u001b[38;5;241m=\u001b[39m ModuleDependencyAnalyzer()\n\u001b[0;32m----> 5\u001b[0m \u001b[43mdep_analyzer\u001b[49m\u001b[38;5;241;43m.\u001b[39;49m\u001b[43manalyze_directory\u001b[49m\u001b[43m(\u001b[49m\u001b[38;5;124;43m\"\u001b[39;49m\u001b[38;5;124;43m.\u001b[39;49m\u001b[38;5;124;43m\"\u001b[39;49m\u001b[43m)\u001b[49m\n\u001b[1;32m      7\u001b[0m \u001b[38;5;28;01mwith\u001b[39;00m \u001b[38;5;28mopen\u001b[39m(\u001b[38;5;124m\"\u001b[39m\u001b[38;5;124mdependencies.html\u001b[39m\u001b[38;5;124m\"\u001b[39m, \u001b[38;5;124m\"\u001b[39m\u001b[38;5;124mw\u001b[39m\u001b[38;5;124m\"\u001b[39m) \u001b[38;5;28;01mas\u001b[39;00m f:\n\u001b[1;32m      8\u001b[0m     f\u001b[38;5;241m.\u001b[39mwrite(dep_analyzer\u001b[38;5;241m.\u001b[39mgenerate_html_visualization())\n",
      "File \u001b[0;32m~/treeline/treeline/dependency_analyzer.py:414\u001b[0m, in \u001b[0;36mModuleDependencyAnalyzer.analyze_directory\u001b[0;34m(self, directory)\u001b[0m\n\u001b[1;32m    412\u001b[0m \u001b[38;5;28;01mdef\u001b[39;00m \u001b[38;5;21manalyze_directory\u001b[39m(\u001b[38;5;28mself\u001b[39m, directory: Path):\n\u001b[1;32m    413\u001b[0m \u001b[38;5;250m    \u001b[39m\u001b[38;5;124;03m\"\"\"Analyze all Python files in directory.\"\"\"\u001b[39;00m\n\u001b[0;32m--> 414\u001b[0m     \u001b[38;5;28;01mfor\u001b[39;00m file_path \u001b[38;5;129;01min\u001b[39;00m \u001b[43mdirectory\u001b[49m\u001b[38;5;241;43m.\u001b[39;49m\u001b[43mrglob\u001b[49m(\u001b[38;5;124m\"\u001b[39m\u001b[38;5;124m*.py\u001b[39m\u001b[38;5;124m\"\u001b[39m):\n\u001b[1;32m    415\u001b[0m         \u001b[38;5;28;01mtry\u001b[39;00m:\n\u001b[1;32m    416\u001b[0m             \u001b[38;5;28;01mwith\u001b[39;00m \u001b[38;5;28mopen\u001b[39m(file_path, \u001b[38;5;124m\"\u001b[39m\u001b[38;5;124mr\u001b[39m\u001b[38;5;124m\"\u001b[39m, encoding\u001b[38;5;241m=\u001b[39m\u001b[38;5;124m\"\u001b[39m\u001b[38;5;124mutf-8\u001b[39m\u001b[38;5;124m\"\u001b[39m) \u001b[38;5;28;01mas\u001b[39;00m f:\n",
      "\u001b[0;31mAttributeError\u001b[0m: 'str' object has no attribute 'rglob'"
     ]
    }
   ],
   "source": [
    "from pathlib import Path\n",
    "from treeline.dependency_analyzer import ModuleDependencyAnalyzer\n",
    "from treeline.diff_visualizer import DiffVisualizer\n",
    "\n",
    "dep_analyzer = ModuleDependencyAnalyzer()\n",
    "dep_analyzer.analyze_directory(Path(\".\"))  \n",
    "\n",
    "with open(\"dependencies.html\", \"w\", encoding=\"utf-8\") as f:\n",
    "    f.write(dep_analyzer.generate_html_visualization())\n",
    "\n",
    "try:\n",
    "    visualizer = DiffVisualizer()\n",
    "    # Compare with previous commit if it exists\n",
    "    diff_html = visualizer.generate_structural_diff(\"HEAD^\", \"HEAD\")\n",
    "    \n",
    "    with open(\"code_diff.html\", \"w\", encoding=\"utf-8\") as f:\n",
    "        f.write(diff_html)\n",
    "    print(\"\\nGit diff visualization generated: code_diff.html\")\n",
    "except Exception as e:\n",
    "    print(f\"\\nGit diff visualization not generated: {str(e)}\")"
   ]
  }
 ],
 "metadata": {
  "kernelspec": {
   "display_name": "Python 3",
   "language": "python",
   "name": "python3"
  },
  "language_info": {
   "codemirror_mode": {
    "name": "ipython",
    "version": 3
   },
   "file_extension": ".py",
   "mimetype": "text/x-python",
   "name": "python",
   "nbconvert_exporter": "python",
   "pygments_lexer": "ipython3",
   "version": "3.11.1"
  }
 },
 "nbformat": 4,
 "nbformat_minor": 2
}
