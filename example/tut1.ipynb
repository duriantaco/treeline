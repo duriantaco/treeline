{
 "cells": [
  {
   "cell_type": "code",
   "execution_count": null,
   "metadata": {},
   "outputs": [
    {
     "name": "stdout",
     "output_type": "stream",
     "text": [
      "example\n",
      "└── tut1.ipynb\n"
     ]
    }
   ],
   "source": [
    "from treeline.core import generate_tree\n",
    "import os\n",
    "# eg. current working dir\n",
    "\n",
    "current_dir = os.getcwd() \n",
    "result = generate_tree(current_dir)\n",
    "print(result)\n",
    "\n",
    "## or \n",
    "\n",
    "print(generate_tree(\".\")) # same as above"
   ]
  },
  {
   "cell_type": "code",
   "execution_count": null,
   "metadata": {},
   "outputs": [
    {
     "name": "stdout",
     "output_type": "stream",
     "text": [
      "example\n",
      "└── tut1.ipynb\n",
      "example\n",
      "└── tut1.ipynb\n"
     ]
    }
   ],
   "source": [
    "# project_root = os.path.dirname(os.path.abspath(__file__))  # If running from a .py file\n",
    "# OR\n",
    "project_root = os.getcwd()  # If running from a notebook or interactive shell\n"
   ]
  },
  {
   "cell_type": "code",
   "execution_count": null,
   "metadata": {},
   "outputs": [
    {
     "name": "stdout",
     "output_type": "stream",
     "text": [
      "treeline\n",
      "├── .git\n",
      "│   ├── hooks\n",
      "│   │   ├── applypatch-msg.sample\n",
      "│   │   ├── commit-msg.sample\n",
      "│   │   ├── fsmonitor-watchman.sample\n",
      "│   │   ├── post-update.sample\n",
      "│   │   ├── pre-applypatch.sample\n",
      "│   │   ├── pre-commit.sample\n",
      "│   │   ├── pre-merge-commit.sample\n",
      "│   │   ├── pre-push.sample\n",
      "│   │   ├── pre-rebase.sample\n",
      "│   │   ├── pre-receive.sample\n",
      "│   │   ├── prepare-commit-msg.sample\n",
      "│   │   ├── push-to-checkout.sample\n",
      "│   │   └── update.sample\n",
      "│   ├── info\n",
      "│   │   └── exclude\n",
      "│   ├── logs\n",
      "│   │   ├── refs\n",
      "│   │   │   ├── heads\n",
      "│   │   │   │   └── main\n",
      "│   │   │   └── remotes\n",
      "│   │   │       └── origin\n",
      "│   │   │           └── main\n",
      "│   │   └── HEAD\n",
      "│   ├── objects\n",
      "│   │   ├── 03\n",
      "│   │   │   └── 8109e7996113202fee50188a072f4cdb1b739a\n",
      "│   │   ├── 04\n",
      "│   │   │   └── a92046d067c3845e08bfb8a046545a092534f0\n",
      "│   │   ├── 06\n",
      "│   │   │   └── 0d32cadf612ef32c64854e066ca0b086c3f563\n",
      "│   │   ├── 09\n",
      "│   │   │   └── 70fabb0959645c4cd0d6b11a8fec15d6c03e06\n",
      "│   │   ├── 0b\n",
      "│   │   │   └── c64183c0554da44f79484aeb8674ea1abd7e67\n",
      "│   │   ├── 11\n",
      "│   │   │   ├── b0d3562d9c285aa7fc5e61919d6de4c6a19736\n",
      "│   │   │   └── eeb1dea9f7da8a701c1d01c3ee973079212880\n",
      "│   │   ├── 18\n",
      "│   │   │   └── 20d06be7daffb6b8168a521dfe41f62d253ee5\n",
      "│   │   ├── 24\n",
      "│   │   │   └── 6a2ca25fa9ac0dfbcf96c88c652e636125e60f\n",
      "│   │   ├── 26\n",
      "│   │   │   └── 1eeb9e9f8b2b4b0d119366dda99c6fd7d35c64\n",
      "│   │   ├── 27\n",
      "│   │   │   └── f9a6add80ff89c971ab7baf5c090ae121397b9\n",
      "│   │   ├── 41\n",
      "│   │   │   ├── 197a7a12f2a66aaf9ecfc3cb07596c7f2fa13a\n",
      "│   │   │   └── a3c9c151d354cf5380f0ab322af0d31f58bd4b\n",
      "│   │   ├── 51\n",
      "│   │   │   └── 44dba50c9529bae2334d98a7a35d7503db77e1\n",
      "│   │   ├── 52\n",
      "│   │   │   └── dd4806b122a78015d7ff664cd72c8e69572385\n",
      "│   │   ├── 56\n",
      "│   │   │   └── 37cbdfa05f48d07b7fc95e1f09ceb71e135730\n",
      "│   │   ├── 62\n",
      "│   │   │   └── b193a1e965ed913d8ed68a582c5ff7b2b24ee5\n",
      "│   │   ├── 79\n",
      "│   │   │   └── ceb4b3d90d2987933096d87d0c6cc208383139\n",
      "│   │   ├── 8b\n",
      "│   │   │   └── 137891791fe96927ad78e64b0aad7bded08bdc\n",
      "│   │   ├── 8f\n",
      "│   │   │   └── 57a99980891ccc68701b94b94342f7ae0e02d6\n",
      "│   │   ├── a0\n",
      "│   │   │   └── 8cf5c9101b82432dd1cce6a1811b1408bd7a2c\n",
      "│   │   ├── c6\n",
      "│   │   │   └── 5d57c970a21adcb8ad25bbcc43d91210f0f9f8\n",
      "│   │   ├── cf\n",
      "│   │   │   └── 9113c3d433c997ea62894cf0971ae5d99c1212\n",
      "│   │   ├── d8\n",
      "│   │   │   └── 25f678130dfe802426f837a1499a0707659019\n",
      "│   │   ├── e2\n",
      "│   │   │   └── 68e0e06d1cbf3cba2f4e09e0c59107d6b1f996\n",
      "│   │   ├── f0\n",
      "│   │   │   └── ee5263dfeda9fe107b653b45be2b423cff948f\n",
      "│   │   ├── fb\n",
      "│   │   │   └── f6e84aee6a7a946e98f68e2b89ca004e54999f\n",
      "│   │   ├── info\n",
      "│   │   └── pack\n",
      "│   ├── refs\n",
      "│   │   ├── heads\n",
      "│   │   │   └── main\n",
      "│   │   ├── remotes\n",
      "│   │   │   └── origin\n",
      "│   │   │       └── main\n",
      "│   │   └── tags\n",
      "│   ├── COMMIT_EDITMSG\n",
      "│   ├── config\n",
      "│   ├── description\n",
      "│   ├── HEAD\n",
      "│   └── index\n",
      "├── example\n",
      "│   ├── tree.md\n",
      "│   └── tut1.ipynb\n",
      "├── tests\n",
      "│   ├── test_core.py\n",
      "│   ├── test_empty_dir.py\n",
      "│   ├── test_missing_dir.py\n",
      "│   ├── test_nested_dir.py\n",
      "│   ├── test_special_char.py\n",
      "│   └── test_treeline.py\n",
      "├── treeline\n",
      "│   ├── __pycache__\n",
      "│   │   ├── __init__.cpython-311.pyc\n",
      "│   │   └── core.cpython-311.pyc\n",
      "│   ├── __init__.py\n",
      "│   ├── __main__.py\n",
      "│   ├── core.py\n",
      "│   └── default_ignore\n",
      "├── treeline.egg-info\n",
      "│   ├── dependency_links.txt\n",
      "│   ├── entry_points.txt\n",
      "│   ├── PKG-INFO\n",
      "│   ├── SOURCES.txt\n",
      "│   └── top_level.txt\n",
      "├── .gitignore\n",
      "├── .treeline-ignore\n",
      "├── License\n",
      "├── README.md\n",
      "├── setup.py\n",
      "└── tree.md\n"
     ]
    }
   ],
   "source": [
    "## the .treeline-ignore will ignore whatever is in the folder\n",
    "project_root = \"your path\" \n",
    "tree = generate_tree(project_root)\n",
    "print(tree)"
   ]
  }
 ],
 "metadata": {
  "kernelspec": {
   "display_name": "Python 3",
   "language": "python",
   "name": "python3"
  },
  "language_info": {
   "codemirror_mode": {
    "name": "ipython",
    "version": 3
   },
   "file_extension": ".py",
   "mimetype": "text/x-python",
   "name": "python",
   "nbconvert_exporter": "python",
   "pygments_lexer": "ipython3",
   "version": "3.11.1"
  }
 },
 "nbformat": 4,
 "nbformat_minor": 2
}
